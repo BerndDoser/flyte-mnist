{
 "cells": [
  {
   "cell_type": "markdown",
   "metadata": {},
   "source": [
    "# Machine Learning Workflow Orchestration with Flyte \n",
    "\n",
    "<!-- <a target=\"_blank\" href=\"https://colab.research.google.com/github/bernddoser/flyte-mnist/blob/main/intro.ipynb\">\n",
    "  <img src=\"https://colab.research.google.com/assets/colab-badge.svg\" alt=\"Open In Colab\"/>\n",
    "</a> -->\n",
    "\n",
    "This notebook demonstrates how to use Flyte to orchestrate a machine learning workflow. We will\n",
    "train a simple neural network on the MNIST dataset and deploy it as a Flyte workflow."
   ]
  },
  {
   "cell_type": "code",
   "execution_count": null,
   "metadata": {},
   "outputs": [],
   "source": [
    "import sys\n",
    "print(\"Python version: \", sys.version)"
   ]
  },
  {
   "cell_type": "markdown",
   "metadata": {},
   "source": [
    "Start with a simple hello world workflow."
   ]
  },
  {
   "cell_type": "code",
   "execution_count": null,
   "metadata": {},
   "outputs": [],
   "source": [
    "%%writefile simple_wf.py\n",
    "from flytekit import task, workflow\n",
    "\n",
    "@task\n",
    "def hello_world(name: str) -> str:\n",
    "    return f\"Hello {name}\"\n",
    "\n",
    "# workflow\n",
    "@workflow\n",
    "def main(name: str) -> str:\n",
    "    return hello_world(name=name)"
   ]
  },
  {
   "cell_type": "markdown",
   "metadata": {},
   "source": [
    "To execute it locally on your machine you execute it with [Pyflyte CLI](https://docs.flyte.org/en/latest/api/flytekit/pyflyte.html#pyflyte-run)."
   ]
  },
  {
   "cell_type": "code",
   "execution_count": null,
   "metadata": {},
   "outputs": [],
   "source": [
    "!pyflyte run simple_wf.py main --name Flyte"
   ]
  },
  {
   "cell_type": "markdown",
   "metadata": {},
   "source": [
    "or run it remotely on the Flyte cluster."
   ]
  },
  {
   "cell_type": "code",
   "execution_count": null,
   "metadata": {},
   "outputs": [],
   "source": [
    "!pyflyte run --remote simple_wf.py main --name Flyte"
   ]
  },
  {
   "cell_type": "code",
   "execution_count": null,
   "metadata": {},
   "outputs": [],
   "source": [
    "!pyflyte run simple_wf.py main --help"
   ]
  },
  {
   "cell_type": "markdown",
   "metadata": {},
   "source": [
    "## Flyte example 1: LogisticRegression with sklearn"
   ]
  },
  {
   "cell_type": "code",
   "execution_count": 2,
   "metadata": {},
   "outputs": [
    {
     "name": "stdout",
     "output_type": "stream",
     "text": [
      "\u001b[36mRunning Execution on Remote.\u001b[0m\n",
      "\u001b[32m\n",
      "[✔] \u001b[0mGo to \u001b[36mhttps://itssv197.h-its.org/console/projects/flytesnacks/domains/development/executions/awp2w8pc5dt46dwxx5vh\u001b[0m to see execution in the console.\n"
     ]
    }
   ],
   "source": [
    "!pyflyte run --remote workflows/train_wine.py training_workflow"
   ]
  },
  {
   "cell_type": "markdown",
   "metadata": {},
   "source": [
    "## Flyte example 2: MNIST with PyTorch"
   ]
  },
  {
   "cell_type": "code",
   "execution_count": 1,
   "metadata": {},
   "outputs": [
    {
     "name": "stdout",
     "output_type": "stream",
     "text": [
      "\u001b[36mRunning Execution on Remote.\u001b[0m\n",
      "\u001b[34mImage registry.h-its.org/doserbd/flyte/flytekit:bEOBUrpCw_nJ2_iC8Ukfrw found. Skip building.\u001b[0m\n",
      "\u001b[32m\n",
      "[✔] \u001b[0mGo to \u001b[36mhttps://itssv197.h-its.org/console/projects/flytesnacks/domains/development/executions/awb9jp6446f69dbbqjn9\u001b[0m to see execution in the console.\n"
     ]
    }
   ],
   "source": [
    "!pyflyte run --remote workflows/get_huggingface_dataset.py wf --name fashion_mnist"
   ]
  }
 ],
 "metadata": {
  "kernelspec": {
   "display_name": "non-package-mode-49ZT70xJ-py3.12",
   "language": "python",
   "name": "python3"
  },
  "language_info": {
   "codemirror_mode": {
    "name": "ipython",
    "version": 3
   },
   "file_extension": ".py",
   "mimetype": "text/x-python",
   "name": "python",
   "nbconvert_exporter": "python",
   "pygments_lexer": "ipython3",
   "version": "3.12.6"
  }
 },
 "nbformat": 4,
 "nbformat_minor": 2
}
