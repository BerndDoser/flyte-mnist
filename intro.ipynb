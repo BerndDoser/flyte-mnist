{
 "cells": [
  {
   "cell_type": "markdown",
   "metadata": {},
   "source": [
    "# Machine Learning Workflow Orchestration with Flyte \n",
    "\n",
    "<a target=\"_blank\" href=\"https://colab.research.google.com/github/bernddoser/flyte-mnist/blob/main/intro-flyte.ipynb\">\n",
    "  <img src=\"https://colab.research.google.com/assets/colab-badge.svg\" alt=\"Open In Colab\"/>\n",
    "</a>"
   ]
  },
  {
   "cell_type": "code",
   "execution_count": 2,
   "metadata": {},
   "outputs": [
    {
     "name": "stdout",
     "output_type": "stream",
     "text": [
      "Hello, world!\n"
     ]
    }
   ],
   "source": [
    "print(\"Hello, world!\")"
   ]
  },
  {
   "cell_type": "code",
   "execution_count": 7,
   "metadata": {},
   "outputs": [
    {
     "name": "stdout",
     "output_type": "stream",
     "text": [
      "Overwriting simple_wf.py\n"
     ]
    }
   ],
   "source": [
    "%%writefile simple_wf.py\n",
    "from flytekit import task, workflow\n",
    "\n",
    "@task\n",
    "def hello_world(name: str) -> str:\n",
    "    return f\"Hello {name}\"\n",
    "\n",
    "# workflow\n",
    "@workflow\n",
    "def main(name: str) -> str:\n",
    "    return hello_world(name=name)"
   ]
  },
  {
   "cell_type": "markdown",
   "metadata": {},
   "source": [
    "## Run locally"
   ]
  },
  {
   "cell_type": "code",
   "execution_count": 4,
   "metadata": {},
   "outputs": [
    {
     "name": "stdout",
     "output_type": "stream",
     "text": [
      "\u001b[36mRunning Execution on local.\u001b[0m\n",
      "Hello Flyte\n"
     ]
    }
   ],
   "source": [
    "!pyflyte run simple_wf.py main --name Flyte"
   ]
  },
  {
   "cell_type": "markdown",
   "metadata": {},
   "source": [
    "## Run remotely on Flyte cluster"
   ]
  },
  {
   "cell_type": "code",
   "execution_count": 5,
   "metadata": {},
   "outputs": [
    {
     "name": "stdout",
     "output_type": "stream",
     "text": [
      "\u001b[36mRunning Execution on Remote.\u001b[0m\n",
      "\u001b[32m\n",
      "[✔] \u001b[0mGo to \u001b[36mhttps://itssv197.h-its.org/console/projects/flytesnacks/domains/development/executions/acw2dr2w4gq8bw6t2w45\u001b[0m to see execution in the console.\n"
     ]
    }
   ],
   "source": [
    "!pyflyte run --remote simple_wf.py main --name Flyte"
   ]
  },
  {
   "cell_type": "code",
   "execution_count": 6,
   "metadata": {},
   "outputs": [
    {
     "name": "stdout",
     "output_type": "stream",
     "text": [
      "                                                                                \n",
      " \u001b[33mUsage:\u001b[0m \u001b[1mpyflyte run simple_wf.py main\u001b[0m [\u001b[1;36mOPTIONS\u001b[0m]                                 \n",
      "                                                                                \n",
      " \u001b[1mTask\u001b[0m (simple_wf.main)                                                          \n",
      "                                                                                \n",
      "\u001b[2m╭─\u001b[0m\u001b[2m Options \u001b[0m\u001b[2m───────────────────────────────────────────────────────────────────\u001b[0m\u001b[2m─╮\u001b[0m\n",
      "\u001b[2m│\u001b[0m \u001b[31m*\u001b[0m  \u001b[1;36m--name\u001b[0m           \u001b[1;33mTEXT\u001b[0m  name \u001b[2;31m[required]\u001b[0m                                    \u001b[2m│\u001b[0m\n",
      "\u001b[2m│\u001b[0m    \u001b[1;36m--inputs-file\u001b[0m    \u001b[1;33mFILE\u001b[0m  Path to a YAML | JSON file containing inputs for   \u001b[2m│\u001b[0m\n",
      "\u001b[2m│\u001b[0m                           the workflow.                                      \u001b[2m│\u001b[0m\n",
      "\u001b[2m│\u001b[0m    \u001b[1;36m--help\u001b[0m           \u001b[1;33m    \u001b[0m  Show this message and exit.                        \u001b[2m│\u001b[0m\n",
      "\u001b[2m╰──────────────────────────────────────────────────────────────────────────────╯\u001b[0m\n",
      "\n"
     ]
    }
   ],
   "source": [
    "!pyflyte run simple_wf.py main --help"
   ]
  }
 ],
 "metadata": {
  "kernelspec": {
   "display_name": "non-package-mode-49ZT70xJ-py3.12",
   "language": "python",
   "name": "python3"
  },
  "language_info": {
   "codemirror_mode": {
    "name": "ipython",
    "version": 3
   },
   "file_extension": ".py",
   "mimetype": "text/x-python",
   "name": "python",
   "nbconvert_exporter": "python",
   "pygments_lexer": "ipython3",
   "version": "3.12.6"
  }
 },
 "nbformat": 4,
 "nbformat_minor": 2
}
