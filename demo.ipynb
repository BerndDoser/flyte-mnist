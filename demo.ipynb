{
 "cells": [
  {
   "cell_type": "markdown",
   "metadata": {},
   "source": [
    "# Machine Learning Workflow Orchestration with Flyte"
   ]
  },
  {
   "cell_type": "code",
   "execution_count": 4,
   "metadata": {},
   "outputs": [
    {
     "name": "stdout",
     "output_type": "stream",
     "text": [
      "Python version:  3.12.3 (main, Sep 11 2024, 14:17:37) [GCC 13.2.0]\n",
      "env: FLYTE_DEFAULT_PROJECT=seminar\n"
     ]
    }
   ],
   "source": [
    "import sys\n",
    "print(\"Python version: \", sys.version)\n",
    "\n",
    "%env FLYTE_DEFAULT_PROJECT=seminar\n",
    "%env FLYTE_DEFAULT_DOMAIN=development"
   ]
  },
  {
   "cell_type": "markdown",
   "metadata": {},
   "source": [
    "## Example 1: Hello World\n",
    "\n",
    "To execute it locally on your machine you execute it with [Pyflyte CLI](https://docs.flyte.org/en/latest/api/flytekit/pyflyte.html#pyflyte-run)."
   ]
  },
  {
   "cell_type": "code",
   "execution_count": 14,
   "metadata": {},
   "outputs": [
    {
     "name": "stdout",
     "output_type": "stream",
     "text": [
      "\u001b[36mRunning Execution on local.\u001b[0m\n",
      "Hello Flyte\n"
     ]
    }
   ],
   "source": [
    "!pyflyte run workflows/simple_wf.py main --name Flyte"
   ]
  },
  {
   "cell_type": "markdown",
   "metadata": {},
   "source": [
    "or run it remotely on the Flyte cluster."
   ]
  },
  {
   "cell_type": "code",
   "execution_count": 5,
   "metadata": {},
   "outputs": [
    {
     "name": "stdout",
     "output_type": "stream",
     "text": [
      "\u001b[36mRunning Execution on Remote.\u001b[0m\n",
      "\u001b[32m\n",
      "[✔] \u001b[0mGo to \u001b[36mhttps://itssv197.h-its.org/console/projects/seminar/domains/development/executions/al9pwj22wvc5vcsbkccd\u001b[0m to see execution in the console.\n"
     ]
    }
   ],
   "source": [
    "!pyflyte run --remote workflows/simple_wf.py main --name Flyte"
   ]
  },
  {
   "cell_type": "code",
   "execution_count": 6,
   "metadata": {},
   "outputs": [
    {
     "name": "stdout",
     "output_type": "stream",
     "text": [
      "                                                                                \n",
      " \u001b[33mUsage:\u001b[0m \u001b[1mpyflyte run workflows/simple_wf.py main\u001b[0m [\u001b[1;36mOPTIONS\u001b[0m]                       \n",
      "                                                                                \n",
      " \u001b[1mTask\u001b[0m (workflows.simple_wf.main)                                                \n",
      "                                                                                \n",
      "\u001b[2m╭─\u001b[0m\u001b[2m Options \u001b[0m\u001b[2m───────────────────────────────────────────────────────────────────\u001b[0m\u001b[2m─╮\u001b[0m\n",
      "\u001b[2m│\u001b[0m \u001b[31m*\u001b[0m  \u001b[1;36m--name\u001b[0m           \u001b[1;33mTEXT\u001b[0m  name \u001b[2;31m[required]\u001b[0m                                    \u001b[2m│\u001b[0m\n",
      "\u001b[2m│\u001b[0m    \u001b[1;36m--inputs-file\u001b[0m    \u001b[1;33mFILE\u001b[0m  Path to a YAML | JSON file containing inputs for   \u001b[2m│\u001b[0m\n",
      "\u001b[2m│\u001b[0m                           the workflow.                                      \u001b[2m│\u001b[0m\n",
      "\u001b[2m│\u001b[0m    \u001b[1;36m--help\u001b[0m           \u001b[1;33m    \u001b[0m  Show this message and exit.                        \u001b[2m│\u001b[0m\n",
      "\u001b[2m╰──────────────────────────────────────────────────────────────────────────────╯\u001b[0m\n",
      "\n"
     ]
    }
   ],
   "source": [
    "!pyflyte run workflows/simple_wf.py main --help"
   ]
  },
  {
   "cell_type": "markdown",
   "metadata": {},
   "source": [
    "## Example 2: LogisticRegression with sklearn"
   ]
  },
  {
   "cell_type": "code",
   "execution_count": 7,
   "metadata": {},
   "outputs": [
    {
     "name": "stdout",
     "output_type": "stream",
     "text": [
      "                                                                                \n",
      " \u001b[33mUsage:\u001b[0m \u001b[1mpyflyte run workflows/train_wine.py\u001b[0m [\u001b[1;36mOPTIONS\u001b[0m] \u001b[1;36mCOMMAND\u001b[0m [\u001b[1;36mARGS\u001b[0m]...         \n",
      "                                                                                \n",
      " Run a [workflow|task] from workflows/train_wine.py                             \n",
      "                                                                                \n",
      "\u001b[2m╭─\u001b[0m\u001b[2m Options \u001b[0m\u001b[2m───────────────────────────────────────────────────────────────────\u001b[0m\u001b[2m─╮\u001b[0m\n",
      "\u001b[2m│\u001b[0m \u001b[1;36m--help\u001b[0m      Show this message and exit.                                      \u001b[2m│\u001b[0m\n",
      "\u001b[2m╰──────────────────────────────────────────────────────────────────────────────╯\u001b[0m\n",
      "\u001b[2m╭─\u001b[0m\u001b[2m Commands \u001b[0m\u001b[2m──────────────────────────────────────────────────────────────────\u001b[0m\u001b[2m─╮\u001b[0m\n",
      "\u001b[2m│\u001b[0m \u001b[1;36mtraining_workflow\u001b[0m\u001b[1;36m \u001b[0m \u001b[1mWorkflow\u001b[0m (workflows.train_wine.training_workflow)\u001b[2mPut all \u001b[0m \u001b[2m│\u001b[0m\n",
      "\u001b[2m│\u001b[0m \u001b[1;36m                  \u001b[0m \u001b[2mof the steps together into a single workflow.\u001b[0m             \u001b[2m│\u001b[0m\n",
      "\u001b[2m│\u001b[0m \u001b[1;36mget_data         \u001b[0m\u001b[1;36m \u001b[0m \u001b[1mTask\u001b[0m (workflows.train_wine.get_data)\u001b[2mGet the wine dataset.\u001b[0m \u001b[2m│\u001b[0m\n",
      "\u001b[2m│\u001b[0m \u001b[1;36mprocess_data     \u001b[0m\u001b[1;36m \u001b[0m \u001b[1mTask\u001b[0m (workflows.train_wine.process_data)\u001b[2mSimplify the task\u001b[0m \u001b[2m│\u001b[0m\n",
      "\u001b[2m│\u001b[0m \u001b[1;36m                  \u001b[0m \u001b[2mfrom a 3-class to a binary classification problem.\u001b[0m        \u001b[2m│\u001b[0m\n",
      "\u001b[2m│\u001b[0m \u001b[1;36mtrain_model      \u001b[0m\u001b[1;36m \u001b[0m \u001b[1mTask\u001b[0m (workflows.train_wine.train_model)\u001b[2mTrain a model on \u001b[0m  \u001b[2m│\u001b[0m\n",
      "\u001b[2m│\u001b[0m \u001b[1;36m                  \u001b[0m \u001b[2mthe wine dataset.\u001b[0m                                         \u001b[2m│\u001b[0m\n",
      "\u001b[2m╰──────────────────────────────────────────────────────────────────────────────╯\u001b[0m\n",
      "\n"
     ]
    }
   ],
   "source": [
    "!pyflyte run --remote workflows/train_wine.py --help"
   ]
  },
  {
   "cell_type": "code",
   "execution_count": 8,
   "metadata": {},
   "outputs": [
    {
     "name": "stdout",
     "output_type": "stream",
     "text": [
      "\u001b[36mRunning Execution on Remote.\u001b[0m\n",
      "\u001b[32m\n",
      "[✔] \u001b[0mGo to \u001b[36mhttps://itssv197.h-its.org/console/projects/seminar/domains/development/executions/agpgs88xwx4nc7mc6dbt\u001b[0m to see execution in the console.\n"
     ]
    }
   ],
   "source": [
    "!pyflyte register workflows/train_wine.py"
   ]
  },
  {
   "cell_type": "markdown",
   "metadata": {},
   "source": [
    "## Example 3: MNIST with PyTorch"
   ]
  },
  {
   "cell_type": "code",
   "execution_count": null,
   "metadata": {},
   "outputs": [],
   "source": [
    "!pyflyte run workflows/pytorch_single_node_and_gpu.py pytorch_training_wf --help"
   ]
  },
  {
   "cell_type": "markdown",
   "metadata": {},
   "source": [
    "### Local run using a json object to define the input hyperparameters"
   ]
  },
  {
   "cell_type": "code",
   "execution_count": null,
   "metadata": {},
   "outputs": [],
   "source": [
    "!pyflyte run workflows/pytorch_single_node_and_gpu.py pytorch_training_wf --hp '{\"batch_size\": 64, \"epochs\": 2}'"
   ]
  },
  {
   "cell_type": "markdown",
   "metadata": {},
   "source": [
    "### Register the workflow to the Flyte platform"
   ]
  },
  {
   "cell_type": "code",
   "execution_count": null,
   "metadata": {},
   "outputs": [],
   "source": [
    "!pyflyte register workflows/pytorch_single_node_and_gpu.py"
   ]
  }
 ],
 "metadata": {
  "kernelspec": {
   "display_name": ".venv",
   "language": "python",
   "name": "python3"
  },
  "language_info": {
   "codemirror_mode": {
    "name": "ipython",
    "version": 3
   },
   "file_extension": ".py",
   "mimetype": "text/x-python",
   "name": "python",
   "nbconvert_exporter": "python",
   "pygments_lexer": "ipython3",
   "version": "3.12.3"
  }
 },
 "nbformat": 4,
 "nbformat_minor": 2
}
