{
 "cells": [
  {
   "cell_type": "code",
   "execution_count": null,
   "metadata": {},
   "outputs": [],
   "source": [
    "from datasets import load_dataset\n",
    "\n",
    "ds = load_dataset(\"keremberke/pokemon-classification\", \"full\", streaming=True).with_format(\"torch\")\n",
    "ds"
   ]
  },
  {
   "cell_type": "code",
   "execution_count": null,
   "metadata": {},
   "outputs": [],
   "source": [
    "from torch.utils.data import DataLoader\n",
    "dataloader = DataLoader(ds[\"train\"], batch_size=32, num_workers=1)\n",
    "\n",
    "for batch in dataloader:\n",
    "    print(batch[\"labels\"][0])\n",
    "    break"
   ]
  },
  {
   "cell_type": "code",
   "execution_count": null,
   "metadata": {},
   "outputs": [],
   "source": [
    "from s3torchconnector import S3IterableDataset\n",
    "\n",
    "# You need to update <BUCKET> and <PREFIX>\n",
    "DATASET_URI=\"s3://minio-api-itssv197.h-its.org/illutris/\"\n",
    "\n",
    "dataset = S3IterableDataset .from_prefix(DATASET_URI, region=\"\")\n",
    "dataloader = DataLoader(dataset, batch_size=32, num_workers=1)\n",
    "\n",
    "for batch in dataloader:\n",
    "    print(batch[\"labels\"][0])\n",
    "    break"
   ]
  },
  {
   "cell_type": "code",
   "execution_count": null,
   "metadata": {},
   "outputs": [],
   "source": [
    "ds = load_dataset(\"emotion\")\n",
    "ds"
   ]
  },
  {
   "cell_type": "code",
   "execution_count": null,
   "metadata": {},
   "outputs": [],
   "source": [
    "for i in range(10):\n",
    "    sample = ds[\"train\"][i]\n",
    "    print(sample[\"text\"], sample[\"label\"])"
   ]
  }
 ],
 "metadata": {
  "kernelspec": {
   "display_name": "non-package-mode-49ZT70xJ-py3.12",
   "language": "python",
   "name": "python3"
  },
  "language_info": {
   "codemirror_mode": {
    "name": "ipython",
    "version": 3
   },
   "file_extension": ".py",
   "mimetype": "text/x-python",
   "name": "python",
   "nbconvert_exporter": "python",
   "pygments_lexer": "ipython3",
   "version": "3.12.3"
  }
 },
 "nbformat": 4,
 "nbformat_minor": 2
}
